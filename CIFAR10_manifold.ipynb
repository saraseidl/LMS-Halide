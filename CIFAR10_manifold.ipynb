{
  "nbformat": 4,
  "nbformat_minor": 0,
  "metadata": {
    "accelerator": "GPU",
    "colab": {
      "name": "CIFAR10_manifold.ipynb",
      "provenance": [],
      "collapsed_sections": [],
      "include_colab_link": true
    },
    "kernelspec": {
      "display_name": "Python 3",
      "language": "python",
      "name": "python3"
    },
    "language_info": {
      "codemirror_mode": {
        "name": "ipython",
        "version": 3
      },
      "file_extension": ".py",
      "mimetype": "text/x-python",
      "name": "python",
      "nbconvert_exporter": "python",
      "pygments_lexer": "ipython3",
      "version": "3.7.3"
    }
  },
  "cells": [
    {
      "cell_type": "markdown",
      "metadata": {
        "id": "view-in-github",
        "colab_type": "text"
      },
      "source": [
        "<a href=\"https://colab.research.google.com/github/saraseidl/LMS-Halide/blob/master/CIFAR10_manifold.ipynb\" target=\"_parent\"><img src=\"https://colab.research.google.com/assets/colab-badge.svg\" alt=\"Open In Colab\"/></a>"
      ]
    },
    {
      "cell_type": "markdown",
      "metadata": {
        "colab_type": "text",
        "id": "bxCe-p9LIXRu"
      },
      "source": [
        "# Assignment 3 (15 points)\n",
        "(due on Nov. 25, 11pm)\n",
        "\n",
        "In the third assignment, we will write a Convolutional Neural Network (CNN) together with training and evaluation routines.\n",
        "\n",
        "The task description can be found below.\n",
        "\n",
        "**Important**: I strongly recommend to use *Google Collab (GC)* for this assignment. Make yourself familiar with running Jupyter notebooks on GC (especially selecting the right runtime, i.e., Python 3 + GPU). This will make your life a lot easier, as training will be faster and you can easily debug problems in your model."
      ]
    },
    {
      "cell_type": "code",
      "metadata": {
        "colab_type": "code",
        "id": "CeswLxlcE28m",
        "outputId": "1118c5e9-3129-49f3-cbd2-2f8a4adb55fa",
        "colab": {
          "base_uri": "https://localhost:8080/",
          "height": 34
        }
      },
      "source": [
        "%matplotlib inline\n",
        "import matplotlib.pyplot as plt\n",
        "\n",
        "# PyTorch imports\n",
        "import torch\n",
        "import torch.nn as nn\n",
        "import torch.optim as optim\n",
        "import torch.nn.functional as F\n",
        "\n",
        "# Torchvision imports\n",
        "import torchvision\n",
        "import torchvision.transforms as transforms\n",
        "from torchvision.datasets import MNIST, CIFAR10\n",
        "from torch.utils.data.dataset import Subset\n",
        "from torch.utils.data import DataLoader\n",
        "\n",
        "# Numpy and other stuff\n",
        "import numpy as np\n",
        "import random\n",
        "from sklearn.model_selection import StratifiedShuffleSplit\n",
        "from collections import Counter\n",
        "\n",
        "torch.manual_seed(1234);\n",
        "np.random.seed(1234);\n",
        "\n",
        "# Check if we have a CUDA-capable device; if so, use it\n",
        "device = 'cuda' if torch.cuda.is_available() else 'cpu'\n",
        "print('Will train on {}'.format(device))"
      ],
      "execution_count": 1,
      "outputs": [
        {
          "output_type": "stream",
          "text": [
            "Will train on cuda\n"
          ],
          "name": "stdout"
        }
      ]
    },
    {
      "cell_type": "code",
      "metadata": {
        "colab_type": "code",
        "id": "RvUP3dkLL76A",
        "outputId": "83f12e29-0df0-4bd9-fd1f-a7dababe6ee6",
        "colab": {
          "base_uri": "https://localhost:8080/",
          "height": 34
        }
      },
      "source": [
        "print(torch.__version__)"
      ],
      "execution_count": 2,
      "outputs": [
        {
          "output_type": "stream",
          "text": [
            "1.3.1\n"
          ],
          "name": "stdout"
        }
      ]
    },
    {
      "cell_type": "code",
      "metadata": {
        "colab_type": "code",
        "id": "eOSdQelkMPAd",
        "outputId": "14d61a40-9d91-438e-fab8-e6ac2eb54061",
        "colab": {
          "base_uri": "https://localhost:8080/",
          "height": 86
        }
      },
      "source": [
        "# CIFAR10 transforms (random horizontal flipping + mean/std. dev. normalize)\n",
        "cifar10_transforms = transforms.Compose(\n",
        "    [transforms.RandomHorizontalFlip(p=0.5),\n",
        "     transforms.ToTensor(),\n",
        "     transforms.Normalize((0.4914, 0.4822, 0.4465), (0.247, 0.243, 0.261))])\n",
        "         \n",
        "# Load full training data\n",
        "ds_train = CIFAR10('./cifar', \n",
        "                 train=True, \n",
        "                 transform=cifar10_transforms, \n",
        "                 target_transform=None, \n",
        "                 download=True)\n",
        "\n",
        "# Load full testing data \n",
        "ds_test = CIFAR10('./cifar', \n",
        "                 train=False, \n",
        "                 transform=cifar10_transforms,\n",
        "                 target_transform=None, \n",
        "                 download=True)\n",
        "\n",
        "lab = [ds_train[x][1] for x in range(len(ds_train))]"
      ],
      "execution_count": 3,
      "outputs": [
        {
          "output_type": "stream",
          "text": [
            "\r0it [00:00, ?it/s]"
          ],
          "name": "stderr"
        },
        {
          "output_type": "stream",
          "text": [
            "Downloading https://www.cs.toronto.edu/~kriz/cifar-10-python.tar.gz to ./cifar/cifar-10-python.tar.gz\n"
          ],
          "name": "stdout"
        },
        {
          "output_type": "stream",
          "text": [
            "170500096it [00:06, 27184589.72it/s]                               \n"
          ],
          "name": "stderr"
        },
        {
          "output_type": "stream",
          "text": [
            "Extracting ./cifar/cifar-10-python.tar.gz to ./cifar\n",
            "Files already downloaded and verified\n"
          ],
          "name": "stdout"
        }
      ]
    },
    {
      "cell_type": "code",
      "metadata": {
        "colab_type": "code",
        "id": "CGmz9GEKRuvw",
        "colab": {}
      },
      "source": [
        "def generate_train_indices(n_splits, train_size, lab):\n",
        "    s = StratifiedShuffleSplit(\n",
        "        n_splits=n_splits, \n",
        "        train_size=train_size, \n",
        "        test_size=None)\n",
        "    \n",
        "    return [i.tolist() for i, _ in s.split(lab, lab)]"
      ],
      "execution_count": 0,
      "outputs": []
    },
    {
      "cell_type": "code",
      "metadata": {
        "colab_type": "code",
        "id": "KGYPAsbwR77Z",
        "colab": {}
      },
      "source": [
        "classes = ['plane', \n",
        "           'car', \n",
        "           'bird', \n",
        "           'cat',\n",
        "           'deer', \n",
        "           'dog', \n",
        "           'frog', \n",
        "           'horse', \n",
        "           'ship', \n",
        "           'truck']"
      ],
      "execution_count": 0,
      "outputs": []
    },
    {
      "cell_type": "code",
      "metadata": {
        "colab_type": "code",
        "id": "vxTbKsZnSC-2",
        "colab": {}
      },
      "source": [
        "def show_images(ds: torchvision.datasets.cifar.CIFAR10, \n",
        "                indices: list):\n",
        "    \n",
        "    assert np.max(indices) < len(ds)\n",
        "    \n",
        "    plt.figure(figsize=(9, len(indices)));\n",
        "    for j,idx in enumerate(indices):\n",
        "        plt.subplot(1,len(indices),j+1)\n",
        "        plt.imshow(ds[idx][0].permute(1,2,0).numpy())\n",
        "        plt.title('Label={}'.format(classes[ds[idx][1]]),fontsize=9)"
      ],
      "execution_count": 0,
      "outputs": []
    },
    {
      "cell_type": "markdown",
      "metadata": {
        "colab_type": "text",
        "id": "4ElEkUGgJ86C"
      },
      "source": [
        "## Tasks\n",
        "\n",
        "The assignment is split into 4 parts: \n",
        "\n",
        "1. Writing the model definition\n",
        "2. Writing the training code\n",
        "3. Writing the testing code\n",
        "4. Writing the *glue* code for training/testing\n",
        "\n",
        "*First*, implement the following **convolutional neural network (CNN)**: It consists of 3 blocks and a simple linear classifier at the end.\n",
        "\n",
        "My notation denotes the following:\n",
        "\n",
        "- `Conv2D(in_channels, out_channels, kernel_size, padding)` - 2D Convolution\n",
        "- `MaxPool(kernel_size, stride, padding)` - Max. pooling\n",
        "- `AvgPool(kernel_size, stride, padding)` - Avg. pooling\n",
        "- `Dropout(dropout_probability)` - Dropout layer\n",
        "- `BatchNorm2D` - 2D batch normalization\n",
        "\n",
        "All these operations can also be found in the [PyTorch documentaton](https://pytorch.org/docs/stable/index.html).\n",
        "\n",
        "**Block 1**\n",
        "\n",
        "```\n",
        "Conv2D(  3,128,3,1) -> Batchnorm2D -> LeakyReLU(0.1)\n",
        "Conv2D(128,128,3,1) -> Batchnorm2D -> LeakyReLU(0.1)\n",
        "Conv2D(128,128,3,1) -> Batchnorm2D -> LeakyReLU(0.1)\n",
        "MaxPool(2,2,0)\n",
        "Dropout(0.5)\n",
        "```\n",
        "The output size at that point should be $N \\times 128 \\times 16 \\times 16$.\n",
        "\n",
        "**Block 2**\n",
        "\n",
        "```\n",
        "Conv2D(128,256,3,1) -> Batchnorm2D -> LeakyReLU(0.1)\n",
        "Conv2D(256,256,3,1) -> Batchnorm2D -> LeakyReLU(0.1)\n",
        "Conv2D(256,256,3,1) -> Batchnorm2D -> LeakyReLU(0.1)\n",
        "MaxPool(2,2,0)\n",
        "Dropout(0.5)\n",
        "```\n",
        "The output size at that point should be $N \\times 128 \\times 8 \\times 8$.\n",
        "\n",
        "**Block 3**\n",
        "\n",
        "```\n",
        "Conv2D(256,512,3,0) -> Batchnorm2D -> LeakyReLU(0.1)\n",
        "Conv2D(512,256,1,0) -> Batchnorm2D -> LeakyReLU(0.1)\n",
        "Conv2D(256,128,1,0) -> Batchnorm2D -> LeakyReLU(0.1)\n",
        "AvgPool(6,2,0)\n",
        "Dropout(0.5)\n",
        "```\n",
        "The output size at that point should be $N \\times 128 \\times 1 \\times 1$.\n",
        "\n",
        "**Classifier**\n",
        "\n",
        "View the output of the last block as a $1 \\times 128$ tensor and add a \n",
        "linear layer mapping from $\\mathbb{R}^{128} \\rightarrow \\mathbb{R}^{10}$\n",
        "(include bias)."
      ]
    },
    {
      "cell_type": "code",
      "metadata": {
        "id": "YDCXdZUSKzAY",
        "colab_type": "code",
        "colab": {}
      },
      "source": [
        "class ConvNet(nn.Module): \n",
        "    def __init__(self, num_classes=10):\n",
        "      super(ConvNet, self).__init__()\n",
        "      # YOUR CODE GOES HERE\n",
        "      \n",
        "    def forward(self, x):\n",
        "      # YOUR CODE GOES HERE\n",
        "      pass\n"
      ],
      "execution_count": 0,
      "outputs": []
    },
    {
      "cell_type": "code",
      "metadata": {
        "id": "n4zdI7gsd9BE",
        "colab_type": "code",
        "colab": {}
      },
      "source": [
        "def mixup_data(x, y, alpha):\n",
        "    \n",
        "    if alpha > 0.:\n",
        "        lam = np.random.beta(alpha, alpha)\n",
        "    else:\n",
        "        lam = 1.\n",
        "        \n",
        "    batch_size = x.size()[0]\n",
        "    index = torch.randperm(batch_size).cuda()\n",
        "    \n",
        "    mixed_x = lam * x + (1 - lam) * x[index,:]\n",
        "\n",
        "    y_a, y_b = y, y[index]\n",
        "    \n",
        "    return mixed_x, y_a, y_b, lam"
      ],
      "execution_count": 0,
      "outputs": []
    },
    {
      "cell_type": "code",
      "metadata": {
        "colab_type": "code",
        "id": "nmEQ00e8SEv2",
        "colab": {}
      },
      "source": [
        "class ConvNet(nn.Module): \n",
        "    def __init__(self, num_classes=10):\n",
        "        super(ConvNet, self).__init__()\n",
        "        \n",
        "        def make_block(conv_config, pooling_op=None, use_dropout=False):\n",
        "            mlist = nn.ModuleList()\n",
        "            for in_c, out_c, k_size, pad in conv_config:\n",
        "                mlist.extend([\n",
        "                    nn.Conv2d(in_c, out_c, k_size, padding=pad),\n",
        "                    nn.BatchNorm2d(out_c),\n",
        "                    nn.LeakyReLU(0.1)\n",
        "                ])\n",
        "            mlist.append(pooling_op)\n",
        "            if use_dropout:\n",
        "                mlist.append(nn.Dropout(0.5))\n",
        "            return mlist\n",
        "\n",
        "        self.block1 = make_block([\n",
        "            [  3,128,3,1],\n",
        "            [128,128,3,1],\n",
        "            [128,128,3,1]], \n",
        "            nn.MaxPool2d(2,stride=2,padding=0), \n",
        "            use_dropout=True)\n",
        "        \n",
        "        self.block2 = make_block([\n",
        "            [128,256,3,1],\n",
        "            [256,256,3,1],\n",
        "            [256,256,3,1]], \n",
        "            nn.MaxPool2d(2,stride=2,padding=0),\n",
        "            use_dropout=True)\n",
        "\n",
        "        self.block3 = make_block([\n",
        "            [256,512,3,0],\n",
        "            [512,256,1,0],\n",
        "            [256,128,1,0]], \n",
        "            nn.AvgPool2d(6,stride=2,padding=0),\n",
        "            use_dropout=False)\n",
        "        \n",
        "        self.classifier = nn.Linear(128,10)\n",
        "    \n",
        "    def forward(self, x, y=None, mixup=False,  mix_alpha=0.1, mix_layer=None):\n",
        "        \"\"\"\n",
        "        Mixup (hidden) layer representations at \n",
        "            - given layers\n",
        "            - randomly choosen blocks\n",
        "        \"\"\"\n",
        "        if mixup == True:\n",
        "            \n",
        "            if mix_layer == None:\n",
        "                mix_layer = random.randint(0,2)\n",
        "            \n",
        "            if mix_layer == 0:\n",
        "                x, y_a, y_b, lam = mixup_data(x, y, mix_alpha)\n",
        "            \n",
        "            for l in self.block1: x = l(x)\n",
        "            \n",
        "            if mix_layer == 1:\n",
        "                x, y_a, y_b, lam = mixup_data(x, y, mix_alpha)\n",
        "            \n",
        "            for l in self.block2: x = l(x)\n",
        "                \n",
        "            if mix_layer == 2:\n",
        "                x, y_a, y_b, lam = mixup_data(x, y, mix_alpha)\n",
        "            \n",
        "            for l in self.block3: x = l(x)\n",
        "                \n",
        "            x = x.view(x.size(0),-1)\n",
        "            x = self.classifier(x)\n",
        "            \n",
        "            lam = torch.tensor(lam).cuda()\n",
        "            \n",
        "            return x, y_a, y_b, lam\n",
        "            \n",
        "        else:\n",
        "            for l in self.block1: x = l(x)\n",
        "            for l in self.block2: x = l(x)\n",
        "            for l in self.block3: x = l(x)\n",
        "            x = x.view(x.size(0),-1)\n",
        "            x = self.classifier(x)\n",
        "            \n",
        "            return x"
      ],
      "execution_count": 0,
      "outputs": []
    },
    {
      "cell_type": "code",
      "metadata": {
        "colab_type": "code",
        "id": "BhtMSe7TSHo6",
        "outputId": "314c7280-82e7-4e33-9f31-874080e4b438",
        "colab": {
          "base_uri": "https://localhost:8080/",
          "height": 34
        }
      },
      "source": [
        "net = ConvNet(10)\n",
        "out = net(torch.rand(5,3,32,32))\n",
        "print(out.size())"
      ],
      "execution_count": 10,
      "outputs": [
        {
          "output_type": "stream",
          "text": [
            "torch.Size([5, 10])\n"
          ],
          "name": "stdout"
        }
      ]
    },
    {
      "cell_type": "markdown",
      "metadata": {
        "colab_type": "text",
        "id": "duG26vY27GJ9"
      },
      "source": [
        "Write a **training method**\n",
        "\n",
        "```python\n",
        "def train(model, device, train_loader, optimizer, epoch):\n",
        "  # your code goes here\n",
        "```\n",
        "\n",
        "which takes the `model`, the `device`, the current loader for the training data, the `optimizer` and the current epoch as parameters.\n",
        "\n",
        "The training method should also print the accumulated cross-entropy loss over each epoch.\n",
        "\n",
        "Then, write a **testing method**\n",
        "\n",
        "```python\n",
        "def test(model, device, test_loader):\n",
        "  # your code goes here\n",
        "```\n",
        "\n",
        "which takes the `model`, the `device` and the testing data loader as parameters and evaluates the model on the testing split of CIFAR10.\n",
        "\n",
        "*For both methods, you can use my MNIST Jupyter notebook \n",
        "as a template.*\n",
        "\n",
        "\n",
        "\n",
        "\n",
        "\n",
        "\n",
        "\n"
      ]
    },
    {
      "cell_type": "code",
      "metadata": {
        "colab_type": "code",
        "id": "vB6ibYt1SMhg",
        "colab": {}
      },
      "source": [
        "def train(model, loss_fn, device, train_loader, optimizer, epoch, mix_info):\n",
        "    \n",
        "    model.train()\n",
        "\n",
        "    mixup, alpha, layer =  mix_info['mixup'], mix_info['alpha'], mix_info['layer']\n",
        "\n",
        "    epoch_loss = 0\n",
        "    for batch_idx, (data, target) in enumerate(train_loader):\n",
        "        \n",
        "        data, target = data.to(device), target.to(device)\n",
        "\n",
        "        optimizer.zero_grad()\n",
        "        \n",
        "        if mixup:\n",
        "          mixed_output, y_a, y_b, lam = model(data, target, mixup, alpha, layer)\n",
        "          loss = loss_fn(mixed_output, y_a, y_b, lam)\n",
        "        \n",
        "        else:\n",
        "          output = model(data)\n",
        "          loss = loss_fn(output, target)\n",
        "\n",
        "        loss.backward()\n",
        "        optimizer.step()\n",
        "        \n",
        "        epoch_loss += loss.item()\n",
        "\n",
        "    print('Train Epoch: {:2d} \\tLoss: {:.6f}'.format(epoch, epoch_loss))"
      ],
      "execution_count": 0,
      "outputs": []
    },
    {
      "cell_type": "code",
      "metadata": {
        "colab_type": "code",
        "id": "HsHPvlm1SVht",
        "colab": {}
      },
      "source": [
        "def test(model, device, test_loader):\n",
        "    model.eval()\n",
        "    test_loss, correct, confidence = 0, 0, 0\n",
        "    \n",
        "    with torch.no_grad():\n",
        "        for data, target in test_loader:\n",
        "            data, target = data.to(device), target.to(device)\n",
        "            output = model(data)\n",
        "            test_loss += F.cross_entropy(output, target, reduction='sum').item()\n",
        "\n",
        "            output = F.softmax(output, dim=1)\n",
        "            pred = output.argmax(dim=1)\n",
        "            confidence += output[pred.ne(target.view_as(pred))].max(dim=1).values.sum()\n",
        "\n",
        "            pred = output.argmax(dim=1, keepdim=True)\n",
        "            correct += pred.eq(target.view_as(pred)).sum().item()\n",
        "\n",
        "    test_loss /= len(test_loader.dataset)\n",
        "    print('\\nTest set: Average loss: {:.4f}, Accuracy: {}/{} ({:.0f}%), Confidence: {:.0f}%\\n'.format(\n",
        "        test_loss, correct, len(test_loader.dataset),\n",
        "        100. * correct / len(test_loader.dataset),\n",
        "        100. * confidence / (len(test_loader.dataset) - correct))\n",
        "    )"
      ],
      "execution_count": 0,
      "outputs": []
    },
    {
      "cell_type": "markdown",
      "metadata": {
        "colab_type": "text",
        "id": "hByDU-eF7rjY"
      },
      "source": [
        "Finally, write the *glue* code which iterates over `n_epochs` (e.g., 100) and, in each epoch, calls `train(...)` and `test(...)`."
      ]
    },
    {
      "cell_type": "code",
      "metadata": {
        "colab_type": "code",
        "id": "OXEkyYPjSPye",
        "outputId": "e260b02a-ef68-423d-d39f-b6aaddc5602f",
        "colab": {
          "base_uri": "https://localhost:8080/",
          "height": 34
        }
      },
      "source": [
        "train_indices = generate_train_indices(10, 500, lab)\n",
        "ds_train_subset = Subset(ds_train, train_indices[1])\n",
        "print(Counter([ds_train_subset[i][1] for i in range(len(ds_train_subset))]))\n",
        "\n",
        "train_loader = torch.utils.data.DataLoader(\n",
        "    ds_train_subset,\n",
        "    batch_size=32,\n",
        "    shuffle=True)\n",
        "\n",
        "test_loader = torch.utils.data.DataLoader(\n",
        "    ds_test, \n",
        "    batch_size=64, \n",
        "    shuffle=False)"
      ],
      "execution_count": 30,
      "outputs": [
        {
          "output_type": "stream",
          "text": [
            "Counter({8: 50, 4: 50, 9: 50, 7: 50, 0: 50, 3: 50, 5: 50, 6: 50, 2: 50, 1: 50})\n"
          ],
          "name": "stdout"
        }
      ]
    },
    {
      "cell_type": "markdown",
      "metadata": {
        "colab_type": "text",
        "id": "twFNwCY46vO5"
      },
      "source": [
        "Train the model using **SGD** with a learning rate of 0.01 and momentum of 0.9 for 100 epochs.\n",
        "\n",
        "After every 10th epoch, evaluate the current model on the testing data and print the current accuracy."
      ]
    },
    {
      "cell_type": "code",
      "metadata": {
        "id": "X1vkwMnuz-IP",
        "colab_type": "code",
        "colab": {}
      },
      "source": [
        "def ce_loss(mixed=True):\n",
        "  def f(pred, y_a, y_b=None, lam=1):\n",
        "    if mixed:\n",
        "      return lam * F.cross_entropy(pred, y_a) + (1 - lam) * F.cross_entropy(pred, y_b) \n",
        "    elif lam >= 0.5:\n",
        "      return F.cross_entropy(pred, y_a)\n",
        "    else:\n",
        "      return F.cross_entropy(pred, y_b)\n",
        "  return f"
      ],
      "execution_count": 0,
      "outputs": []
    },
    {
      "cell_type": "markdown",
      "metadata": {
        "id": "i_j4hcfQKp1d",
        "colab_type": "text"
      },
      "source": [
        ""
      ]
    },
    {
      "cell_type": "code",
      "metadata": {
        "id": "XYFDvxyc2Mtb",
        "colab_type": "code",
        "colab": {}
      },
      "source": [
        "def bce_loss():\n",
        "  def f(pred, y_a, y_b=None, lam=1): \n",
        "    one_hot_a = F.one_hot(y_a, pred.size(1))\n",
        "    mixed_labels = one_hot_a\n",
        "\n",
        "    if y_b is not None: \n",
        "      one_hot_b = F.one_hot(y_b, pred.size(1))\n",
        "      mixed_labels = one_hot_a * lam + one_hot_b * (1 - lam)\n",
        "\n",
        "    return F.binary_cross_entropy(F.softmax(pred, dim=1), mixed_labels.float())\n",
        "\n",
        "  return f"
      ],
      "execution_count": 0,
      "outputs": []
    },
    {
      "cell_type": "code",
      "metadata": {
        "colab_type": "code",
        "id": "Cx2ahoZnSRqP",
        "outputId": "65587fdb-2c77-45ee-dfcf-31f748988d87",
        "colab": {
          "base_uri": "https://localhost:8080/",
          "height": 1000
        }
      },
      "source": [
        "n_epochs = 100\n",
        "mix_info = {'mixup': True,\n",
        "            'layer': 1,\n",
        "            'alpha': 1.0}\n",
        "\n",
        "loss_fn = ce_loss()\n",
        "\n",
        "model = ConvNet().to(device)\n",
        "\n",
        "optimizer = optim.SGD(\n",
        "    model.parameters(), \n",
        "    lr=0.01, \n",
        "    momentum=0.9,\n",
        "    weight_decay=1e-3)\n",
        "\n",
        "scheduler = torch.optim.lr_scheduler.StepLR(optimizer, 30, 0.1)\n",
        "\n",
        "for epoch in range(1,n_epochs + 1):\n",
        "    train(model, loss_fn, device, train_loader, optimizer, epoch, mix_info)\n",
        "    if epoch % 10 == 0:\n",
        "      test(model, device, test_loader)\n",
        "    scheduler.step()"
      ],
      "execution_count": 36,
      "outputs": [
        {
          "output_type": "stream",
          "text": [
            "Train Epoch:  1 \tLoss: 36.077609\n",
            "Train Epoch:  2 \tLoss: 33.535430\n",
            "Train Epoch:  3 \tLoss: 32.370922\n",
            "Train Epoch:  4 \tLoss: 31.802422\n",
            "Train Epoch:  5 \tLoss: 30.900700\n",
            "Train Epoch:  6 \tLoss: 30.381034\n",
            "Train Epoch:  7 \tLoss: 30.953934\n",
            "Train Epoch:  8 \tLoss: 29.761010\n",
            "Train Epoch:  9 \tLoss: 29.365545\n",
            "Train Epoch: 10 \tLoss: 28.412056\n",
            "\n",
            "Test set: Average loss: 1.7232, Accuracy: 3604/10000 (36%), Confidence: 34%\n",
            "\n",
            "Train Epoch: 11 \tLoss: 28.321682\n",
            "Train Epoch: 12 \tLoss: 27.671219\n",
            "Train Epoch: 13 \tLoss: 27.985543\n",
            "Train Epoch: 14 \tLoss: 25.806006\n",
            "Train Epoch: 15 \tLoss: 27.773384\n",
            "Train Epoch: 16 \tLoss: 26.453529\n",
            "Train Epoch: 17 \tLoss: 27.315993\n",
            "Train Epoch: 18 \tLoss: 26.765665\n",
            "Train Epoch: 19 \tLoss: 26.453461\n",
            "Train Epoch: 20 \tLoss: 26.326469\n",
            "\n",
            "Test set: Average loss: 1.6372, Accuracy: 4113/10000 (41%), Confidence: 45%\n",
            "\n",
            "Train Epoch: 21 \tLoss: 25.001235\n",
            "Train Epoch: 22 \tLoss: 25.194321\n",
            "Train Epoch: 23 \tLoss: 24.260137\n",
            "Train Epoch: 24 \tLoss: 23.502590\n",
            "Train Epoch: 25 \tLoss: 25.546938\n",
            "Train Epoch: 26 \tLoss: 24.333915\n",
            "Train Epoch: 27 \tLoss: 22.944143\n",
            "Train Epoch: 28 \tLoss: 23.099108\n",
            "Train Epoch: 29 \tLoss: 21.456897\n",
            "Train Epoch: 30 \tLoss: 23.081568\n",
            "\n",
            "Test set: Average loss: 1.8243, Accuracy: 4046/10000 (40%), Confidence: 51%\n",
            "\n",
            "Train Epoch: 31 \tLoss: 23.925031\n",
            "Train Epoch: 32 \tLoss: 23.440022\n",
            "Train Epoch: 33 \tLoss: 22.314677\n",
            "Train Epoch: 34 \tLoss: 22.284557\n",
            "Train Epoch: 35 \tLoss: 20.224968\n",
            "Train Epoch: 36 \tLoss: 22.963580\n",
            "Train Epoch: 37 \tLoss: 21.099615\n",
            "Train Epoch: 38 \tLoss: 20.952884\n",
            "Train Epoch: 39 \tLoss: 19.681235\n",
            "Train Epoch: 40 \tLoss: 19.019320\n",
            "\n",
            "Test set: Average loss: 1.4153, Accuracy: 5066/10000 (51%), Confidence: 49%\n",
            "\n",
            "Train Epoch: 41 \tLoss: 19.517780\n",
            "Train Epoch: 42 \tLoss: 20.880499\n",
            "Train Epoch: 43 \tLoss: 21.511790\n",
            "Train Epoch: 44 \tLoss: 20.682844\n",
            "Train Epoch: 45 \tLoss: 19.958895\n",
            "Train Epoch: 46 \tLoss: 21.525341\n",
            "Train Epoch: 47 \tLoss: 17.851045\n",
            "Train Epoch: 48 \tLoss: 19.808357\n",
            "Train Epoch: 49 \tLoss: 20.375506\n",
            "Train Epoch: 50 \tLoss: 18.975613\n",
            "\n",
            "Test set: Average loss: 1.4032, Accuracy: 5136/10000 (51%), Confidence: 49%\n",
            "\n",
            "Train Epoch: 51 \tLoss: 21.083328\n",
            "Train Epoch: 52 \tLoss: 17.610117\n",
            "Train Epoch: 53 \tLoss: 18.666644\n",
            "Train Epoch: 54 \tLoss: 19.775174\n",
            "Train Epoch: 55 \tLoss: 21.317241\n",
            "Train Epoch: 56 \tLoss: 19.940238\n",
            "Train Epoch: 57 \tLoss: 19.003363\n",
            "Train Epoch: 58 \tLoss: 19.224542\n",
            "Train Epoch: 59 \tLoss: 19.740533\n",
            "Train Epoch: 60 \tLoss: 20.685326\n",
            "\n",
            "Test set: Average loss: 1.4273, Accuracy: 5139/10000 (51%), Confidence: 51%\n",
            "\n",
            "Train Epoch: 61 \tLoss: 20.480458\n",
            "Train Epoch: 62 \tLoss: 19.384835\n",
            "Train Epoch: 63 \tLoss: 18.698352\n",
            "Train Epoch: 64 \tLoss: 19.074267\n",
            "Train Epoch: 65 \tLoss: 19.367231\n",
            "Train Epoch: 66 \tLoss: 19.141817\n",
            "Train Epoch: 67 \tLoss: 17.938948\n",
            "Train Epoch: 68 \tLoss: 19.196896\n",
            "Train Epoch: 69 \tLoss: 17.712824\n",
            "Train Epoch: 70 \tLoss: 18.219436\n",
            "\n",
            "Test set: Average loss: 1.4191, Accuracy: 5146/10000 (51%), Confidence: 51%\n",
            "\n",
            "Train Epoch: 71 \tLoss: 16.934445\n",
            "Train Epoch: 72 \tLoss: 19.161618\n",
            "Train Epoch: 73 \tLoss: 18.281790\n",
            "Train Epoch: 74 \tLoss: 20.337553\n",
            "Train Epoch: 75 \tLoss: 19.751070\n",
            "Train Epoch: 76 \tLoss: 20.407445\n",
            "Train Epoch: 77 \tLoss: 20.320843\n",
            "Train Epoch: 78 \tLoss: 18.498846\n",
            "Train Epoch: 79 \tLoss: 18.615536\n",
            "Train Epoch: 80 \tLoss: 18.848765\n",
            "\n",
            "Test set: Average loss: 1.4195, Accuracy: 5146/10000 (51%), Confidence: 51%\n",
            "\n",
            "Train Epoch: 81 \tLoss: 18.072731\n",
            "Train Epoch: 82 \tLoss: 18.897392\n",
            "Train Epoch: 83 \tLoss: 18.873874\n",
            "Train Epoch: 84 \tLoss: 20.056463\n",
            "Train Epoch: 85 \tLoss: 19.752150\n",
            "Train Epoch: 86 \tLoss: 16.286069\n",
            "Train Epoch: 87 \tLoss: 16.809847\n",
            "Train Epoch: 88 \tLoss: 20.376725\n",
            "Train Epoch: 89 \tLoss: 19.160299\n",
            "Train Epoch: 90 \tLoss: 17.310752\n",
            "\n",
            "Test set: Average loss: 1.4156, Accuracy: 5182/10000 (52%), Confidence: 51%\n",
            "\n",
            "Train Epoch: 91 \tLoss: 18.554966\n",
            "Train Epoch: 92 \tLoss: 18.947614\n",
            "Train Epoch: 93 \tLoss: 17.439900\n",
            "Train Epoch: 94 \tLoss: 18.026620\n",
            "Train Epoch: 95 \tLoss: 18.591952\n",
            "Train Epoch: 96 \tLoss: 19.271914\n",
            "Train Epoch: 97 \tLoss: 19.286203\n",
            "Train Epoch: 98 \tLoss: 19.757525\n",
            "Train Epoch: 99 \tLoss: 18.551697\n",
            "Train Epoch: 100 \tLoss: 19.124068\n",
            "\n",
            "Test set: Average loss: 1.4207, Accuracy: 5172/10000 (52%), Confidence: 51%\n",
            "\n"
          ],
          "name": "stdout"
        }
      ]
    },
    {
      "cell_type": "code",
      "metadata": {
        "colab_type": "code",
        "id": "bAWY0tei5QGW",
        "colab": {}
      },
      "source": [
        "test(model, device, test_loader)"
      ],
      "execution_count": 0,
      "outputs": []
    },
    {
      "cell_type": "code",
      "metadata": {
        "id": "IU3Gd2Hfd9CI",
        "colab_type": "code",
        "colab": {}
      },
      "source": [
        ""
      ],
      "execution_count": 0,
      "outputs": []
    },
    {
      "cell_type": "code",
      "metadata": {
        "id": "VC3KakLKd9CT",
        "colab_type": "code",
        "colab": {}
      },
      "source": [
        ""
      ],
      "execution_count": 0,
      "outputs": []
    },
    {
      "cell_type": "code",
      "metadata": {
        "id": "gKH-i6aBd9CZ",
        "colab_type": "code",
        "colab": {}
      },
      "source": [
        ""
      ],
      "execution_count": 0,
      "outputs": []
    },
    {
      "cell_type": "markdown",
      "metadata": {
        "colab_type": "text",
        "id": "Pft0JDgJ9mgz"
      },
      "source": [
        "If you train with reasonable settings, you should get a testing accuracy somewhere between 45% and 50% (random chance is 1/10 obviously)."
      ]
    },
    {
      "cell_type": "markdown",
      "metadata": {
        "id": "P7s-h7uMifgr",
        "colab_type": "text"
      },
      "source": [
        "#ce_loss\n",
        "\n",
        "**mixup(alpha=2.0, layer=1)**:\n",
        "\n",
        "* Average loss: 1.4437, Accuracy: 4988/10000 (50%), Confidence: 2.6600\n",
        "* Average loss: 1.4485, Accuracy: 4956/10000 (50%), Confidence: 2.6423\n",
        "\n",
        "**mixup(alpha=1.0, layer=0)**:\n",
        "\n",
        "* Average loss: 1.4273, Accuracy: 5038/10000 (50%), Confidence: 2.5835\n",
        "* Average loss: 1.4666, Accuracy: 4989/10000 (50%), Confidence: 2.6853\n",
        "\n",
        "**mixup(alpha=1.0, layer=1)**:\n",
        "\n",
        "* Average loss: 1.4060, Accuracy: 5145/10000 (51%), Confidence: 2.73954\n",
        "* Average loss: 1.4043, Accuracy: 5157/10000 (52%), Confidence: 2.7841\n",
        "\n",
        "**mixup(alpha=1.0, layer=2)**:\n",
        "\n",
        "* Average loss: 1.5921, Accuracy: 4872/10000 (49%), Confidence: 3.1354\n",
        "* Average loss: 1.5546, Accuracy: 4869/10000 (49%), Confidence: 2.9672\n",
        "\n",
        "**no mixup**:\n",
        "\n",
        "* Average loss: 1.7241, Accuracy: 4927/10000 (49%), Confidence: 4.3006\n",
        "* Average loss: 1.7886, Accuracy: 4739/10000 (47%), Confidence: 4.3598"
      ]
    },
    {
      "cell_type": "markdown",
      "metadata": {
        "id": "yUv6eRpPkBYo",
        "colab_type": "text"
      },
      "source": [
        "#bce_loss\n",
        "\n",
        "**mixup(alpha=2.0, layer=1):**\n",
        "\n",
        "* Average loss: 1.6274, Accuracy: 4023/10000 (40%), Confidence: 1.6892\n",
        "* Average loss: 1.6170, Accuracy: 4081/10000 (41%), Confidence: 1.7594\n",
        "\n",
        "**mixup(alpha=1.0, layer=0):**\n",
        "\n",
        "* Average loss: 1.7552, Accuracy: 3497/10000 (35%), Confidence: 1.7208\n",
        "* Average loss: 1.8290, Accuracy: 3161/10000 (32%), Confidence: 1.7179\n",
        "\n",
        "**mixup(alpha=1.0, layer=1):**\n",
        "\n",
        "* Average loss: 1.6132, Accuracy: 4050/10000 (40%), Confidence: 1.8746\n",
        "* Average loss: 1.6101, Accuracy: 4121/10000 (41%), Confidence: 1.8632\n",
        "\n",
        "**mixup(alpha=1.0, layer=2):**\n",
        "\n",
        "* Average loss: 1.9788, Accuracy: 3064/10000 (31%), Confidence: 2.1645\n",
        "* Average loss: 1.9767, Accuracy: 2991/10000 (30%), Confidence: 2.0792\n",
        "\n",
        "**no mixup:**\n",
        "\n",
        "* Average loss: 1.9935, Accuracy: 2987/10000 (30%), Confidence: 2.4300\n",
        "* Average loss: 2.0803, Accuracy: 2845/10000 (28%), Confidence: 2.4394\n"
      ]
    }
  ]
}